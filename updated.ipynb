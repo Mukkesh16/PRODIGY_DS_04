{
 "cells": [
  {
   "cell_type": "code",
   "execution_count": null,
   "id": "49b994f1",
   "metadata": {},
   "outputs": [
    {
     "data": {
      "image/png": "[encoded data removed]",
      "text/plain": [
       "<Figure size 600x400 with 1 Axes>"
      ]
     },
     "metadata": {},
     "output_type": "display_data"
    }
   ],
   "source": [
    "import pandas as pd\n",
    "import matplotlib.pyplot as plt\n",
    "from textblob import TextBlob\n",
    "from wordcloud import WordCloud\n",
    "import plotly.express as px\n",
    "from collections import Counter\n",
    "\n",
    "df = pd.read_csv(r\"C:\\Users\\mukke\\Downloads\\twitter.csv\", on_bad_lines=\"skip\", engine=\"python\")\n",
    "df.drop_duplicates(inplace=True)\n",
    "\n",
    "text_column = \"content\" if \"content\" in df.columns else df.columns[0]\n",
    "df.dropna(subset=[text_column], inplace=True)\n",
    "\n",
    "def get_sentiment(text):\n",
    "    analysis = TextBlob(str(text))\n",
    "    if analysis.sentiment.polarity > 0:\n",
    "        return \"Positive\"\n",
    "    elif analysis.sentiment.polarity < 0:\n",
    "        return \"Negative\"\n",
    "    else:\n",
    "        return \"Neutral\"\n",
    "\n",
    "df[\"Sentiment\"] = df[text_column].apply(get_sentiment)\n",
    "\n",
    "sentiment_counts = df[\"Sentiment\"].value_counts()\n",
    "plt.figure(figsize=(6, 4))\n",
    "sentiment_counts.plot(kind=\"bar\", color=[\"green\", \"red\", \"gray\"])\n",
    "plt.title(\"Sentiment Analysis\")\n",
    "plt.xlabel(\"Sentiment\")\n",
    "plt.ylabel(\"Count\")\n",
    "plt.show()\n",
    "\n",
    "sentiment_counts_df = sentiment_counts.reset_index()\n",
    "sentiment_counts_df.columns = [\"Sentiment\", \"Count\"]\n",
    "\n",
    "fig = px.bar(\n",
    "    sentiment_counts_df,\n",
    "    x=\"Sentiment\",\n",
    "    y=\"Count\",\n",
    "    labels={\"Sentiment\": \"Sentiment\", \"Count\": \"Count\"},\n",
    "    color=\"Sentiment\"\n",
    ")\n",
    "fig.show(renderer=\"browser\")\n",
    "\n",
    "pos_text = \" \".join(df[df[\"Sentiment\"] == \"Positive\"][text_column])\n",
    "neg_text = \" \".join(df[df[\"Sentiment\"] == \"Negative\"][text_column])\n",
    "\n",
    "pos_wc = WordCloud(width=800, height=400, background_color=\"white\").generate(pos_text)\n",
    "neg_wc = WordCloud(width=800, height=400, background_color=\"black\").generate(neg_text)\n",
    "\n",
    "plt.figure(figsize=(10, 5))\n",
    "plt.imshow(pos_wc, interpolation=\"bilinear\")\n",
    "plt.axis(\"off\")\n",
    "plt.title(\"Positive Tweets WordCloud\")\n",
    "plt.show()\n",
    "\n",
    "plt.figure(figsize=(10, 5))\n",
    "plt.imshow(neg_wc, interpolation=\"bilinear\")\n",
    "plt.axis(\"off\")\n",
    "plt.title(\"Negative Tweets WordCloud\")\n",
    "plt.show()\n",
    "\n",
    "df.to_csv(\"sentiment_results.csv\", index=False)\n",
    "\n",
    "positive_words = \" \".join(df[df[\"Sentiment\"] == \"Positive\"][text_column]).split()\n",
    "negative_words = \" \".join(df[df[\"Sentiment\"] == \"Negative\"][text_column]).split()\n",
    "\n",
    "print(\"Top Positive Words:\", Counter(positive_words).most_common(10))\n",
    "print(\"Top Negative Words:\", Counter(negative_words).most_common(10))\n"
   ]
  }
 ],
 "metadata": {
  "kernelspec": {
   "display_name": ".venv (3.13.5)",
   "language": "python",
   "name": "python3"
  },
  "language_info": {
   "codemirror_mode": {
    "name": "ipython",
    "version": 3
   },
   "file_extension": ".py",
   "mimetype": "text/x-python",
   "name": "python",
   "nbconvert_exporter": "python",
   "pygments_lexer": "ipython3",
   "version": "3.13.5"
  }
 },
 "nbformat": 4,
 "nbformat_minor": 5
}
